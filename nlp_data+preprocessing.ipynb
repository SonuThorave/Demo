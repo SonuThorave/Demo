{
  "nbformat": 4,
  "nbformat_minor": 0,
  "metadata": {
    "colab": {
      "provenance": [],
      "authorship_tag": "ABX9TyM946IEltn/W2CGxyezZ/vg",
      "include_colab_link": true
    },
    "kernelspec": {
      "name": "python3",
      "display_name": "Python 3"
    },
    "language_info": {
      "name": "python"
    }
  },
  "cells": [
    {
      "cell_type": "markdown",
      "metadata": {
        "id": "view-in-github",
        "colab_type": "text"
      },
      "source": [
        "<a href=\"https://colab.research.google.com/github/SonuThorave/Demo/blob/main/nlp_data%2Bpreprocessing.ipynb\" target=\"_parent\"><img src=\"https://colab.research.google.com/assets/colab-badge.svg\" alt=\"Open In Colab\"/></a>"
      ]
    },
    {
      "cell_type": "code",
      "execution_count": null,
      "metadata": {
        "colab": {
          "base_uri": "https://localhost:8080/"
        },
        "id": "ARTboarbRrhb",
        "outputId": "cb29b203-8490-4cc2-cd62-d2aeeba231c7"
      },
      "outputs": [
        {
          "output_type": "stream",
          "name": "stdout",
          "text": [
            "[nltk_data] Downloading package wordnet to /root/nltk_data...\n",
            "[nltk_data]   Package wordnet is already up-to-date!\n",
            "[nltk_data] Downloading package stopwords to /root/nltk_data...\n",
            "[nltk_data]   Package stopwords is already up-to-date!\n",
            "[nltk_data] Downloading package punkt to /root/nltk_data...\n",
            "[nltk_data]   Package punkt is already up-to-date!\n"
          ]
        }
      ],
      "source": [
        "#import all the required libraries\n",
        "import numpy as np\n",
        "import pandas as pd\n",
        "import pickle\n",
        "from statistics import mode\n",
        "import nltk\n",
        "from nltk import word_tokenize\n",
        "from nltk.stem import LancasterStemmer\n",
        "nltk.download('wordnet')\n",
        "nltk.download('stopwords')\n",
        "nltk.download('punkt')\n",
        "from nltk.corpus import stopwords\n",
        "from bs4 import BeautifulSoup\n"
      ]
    },
    {
      "cell_type": "code",
      "source": [
        "#read the dataset file\n",
        "df=pd.read_csv(\"/content/Reviews.csv\",nrows=100000)\n",
        "#drop the duplicate and na values from the records\n",
        "df.drop_duplicates(subset=['Text'],inplace=True)\n",
        "df.dropna(axis=0,inplace=True)\n",
        "input_data = df.loc[:,'Text']\n",
        "target_data = df.loc[:,'Summary']\n",
        "target_data.replace('', np.nan, inplace=True)"
      ],
      "metadata": {
        "id": "I1O0I2mBTsoE"
      },
      "execution_count": null,
      "outputs": []
    },
    {
      "cell_type": "code",
      "source": [
        "input_texts=[]\n",
        "target_texts=[]\n",
        "input_words=[]\n",
        "target_words=[]\n",
        "contractions= pickle.load(open(\"/content/contractions.pkl\",\"rb\"))['contractions']\n",
        "#initialize stop words and LancasterStemmer\n",
        "stop_words=set(stopwords.words('english'))\n",
        "stemm=LancasterStemmer()"
      ],
      "metadata": {
        "id": "iK86xPfZT3am"
      },
      "execution_count": null,
      "outputs": []
    },
    {
      "cell_type": "code",
      "source": [
        "def clean(texts,src):\n",
        "  #remove the html tags\n",
        "  texts = BeautifulSoup(texts, \"lxml\").text\n",
        "  #tokenize the text into words \n",
        "  words=word_tokenize(texts.lower())\n",
        "  #filter words which contains \\ \n",
        "  #integers or their length is less than or equal to 3\n",
        "  words= list(filter(lambda w:(w.isalpha() and len(w)>=3),words))\n",
        "  #contraction file to expand shortened words\n",
        "  words= [contractions[w] if w in contractions else w for w in words ]\n",
        "  #stem the words to their root word and filter stop words\n",
        "  if src==\"inputs\":\n",
        "    words= [stemm.stem(w) for w in words if w not in stop_words]\n",
        "  else:\n",
        "    words= [w for w in words if w not in stop_words]\n",
        "  return words"
      ],
      "metadata": {
        "id": "C3Ob6a-8S20C"
      },
      "execution_count": null,
      "outputs": []
    },
    {
      "cell_type": "code",
      "source": [
        "\n",
        "#pass the input records and target records\n",
        "for in_txt,tr_txt in zip(input_data,target_data):\n",
        "  in_words= clean(in_txt,\"inputs\")\n",
        "  input_texts+= [' '.join(in_words)]\n",
        "  input_words+= in_words\n",
        "  #add 'sos' at start and 'eos' at end of text\n",
        "  tr_words= clean(\"sos \"+tr_txt+\" eos\",\"target\")\n",
        "  target_texts+= [' '.join(tr_words)]\n",
        "  target_words+= tr_words"
      ],
      "metadata": {
        "id": "GKDkBmWdS9Th"
      },
      "execution_count": null,
      "outputs": []
    },
    {
      "cell_type": "code",
      "source": [
        "\n",
        "#store only unique words from input and target list of words\n",
        "input_words = sorted(list(set(input_words)))\n",
        "target_words = sorted(list(set(target_words)))\n",
        "num_in_words = len(input_words) #total number of input words\n",
        "num_tr_words = len(target_words) #total number of target words"
      ],
      "metadata": {
        "id": "tCM23U3xTDuV"
      },
      "execution_count": null,
      "outputs": []
    },
    {
      "cell_type": "code",
      "source": [
        "\n",
        "#get the length of the input and target texts which appears most often  \n",
        "max_in_len = mode([len(i) for i in input_texts])\n",
        "max_tr_len = mode([len(i) for i in target_texts])\n",
        "\n",
        "print(\"number of input words : \",num_in_words)\n",
        "print(\"number of target words : \",num_tr_words)\n",
        "print(\"maximum input length : \",max_in_len)\n",
        "print(\"maximum target length : \",max_tr_len)"
      ],
      "metadata": {
        "colab": {
          "base_uri": "https://localhost:8080/"
        },
        "id": "nOKj3C4zTDxY",
        "outputId": "62079ca8-fc17-421c-9386-14200e7050fa"
      },
      "execution_count": null,
      "outputs": [
        {
          "output_type": "stream",
          "name": "stdout",
          "text": [
            "number of input words :  29527\n",
            "number of target words :  13026\n",
            "maximum input length :  63\n",
            "maximum target length :  17\n"
          ]
        }
      ]
    }
  ]
}